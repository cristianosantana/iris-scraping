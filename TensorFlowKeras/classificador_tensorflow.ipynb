{
 "cells": [
  {
   "cell_type": "markdown",
   "metadata": {},
   "source": [
    "##Exemplo Classificador de Flores - TensorFlow\n",
    " "
   ]
  },
  {
   "cell_type": "markdown",
   "metadata": {},
   "source": [
    "(iris.jpg)"
   ]
  },
  {
   "cell_type": "code",
   "execution_count": 4,
   "metadata": {
    "collapsed": false
   },
   "outputs": [],
   "source": [
    "import tensorflow as tf\n",
    "import pandas as pd\n",
    "\n",
    "COLUMN_NAMES = [\n",
    "        'SepalLength', \n",
    "        'SepalWidth',\n",
    "        'PetalLength', \n",
    "        'PetalWidth', \n",
    "        'Species'\n",
    "        ]\n",
    "\n",
    "# Importando dataset de treinamento\n",
    "training_dataset = pd.read_csv('iris_training.csv', names=COLUMN_NAMES, header=0)\n",
    "train_x = training_dataset.iloc[:, 0:4]\n",
    "train_y = training_dataset.iloc[:, 4]\n",
    "\n",
    "# Importando dataset de teste\n",
    "test_dataset = pd.read_csv('iris_test.csv', names=COLUMN_NAMES, header=0)\n",
    "test_x = test_dataset.iloc[:, 0:4]\n",
    "test_y = test_dataset.iloc[:, 4]\n"
   ]
  },
  {
   "cell_type": "markdown",
   "metadata": {},
   "source": [
    "(iris_dataset.png)"
   ]
  },
  {
   "cell_type": "code",
   "execution_count": 5,
   "metadata": {
    "collapsed": true
   },
   "outputs": [],
   "source": [
    "# Agora, precisamos definir colunas de recursos, que irão ajudar a nossa Rede Neural.\n",
    "\n",
    "columns_feat = [\n",
    "\n",
    "    tf.feature_column.numeric_column(key='SepalLength'),\n",
    "    tf.feature_column.numeric_column(key='SepalWidth'),\n",
    "    tf.feature_column.numeric_column(key='PetalLength'),\n",
    "    tf.feature_column.numeric_column(key='PetalWidth')\n",
    "]"
   ]
  },
  {
   "cell_type": "markdown",
   "metadata": {},
   "source": [
    "(iris_modelo.png)"
   ]
  },
  {
   "cell_type": "code",
   "execution_count": 6,
   "metadata": {
    "collapsed": false
   },
   "outputs": [
    {
     "name": "stdout",
     "output_type": "stream",
     "text": [
      "INFO:tensorflow:Using default config.\n",
      "WARNING:tensorflow:Using temporary folder as model directory: /var/folders/j4/f5p_3xrn2n12xxlnz1t9p2q40000gn/T/tmpC8gSQq\n",
      "INFO:tensorflow:Using config: {'_save_checkpoints_secs': 600, '_session_config': None, '_keep_checkpoint_max': 5, '_task_type': 'worker', '_is_chief': True, '_cluster_spec': <tensorflow.python.training.server_lib.ClusterSpec object at 0x118432e50>, '_save_checkpoints_steps': None, '_keep_checkpoint_every_n_hours': 10000, '_service': None, '_num_ps_replicas': 0, '_tf_random_seed': None, '_master': '', '_num_worker_replicas': 1, '_task_id': 0, '_log_step_count_steps': 100, '_model_dir': '/var/folders/j4/f5p_3xrn2n12xxlnz1t9p2q40000gn/T/tmpC8gSQq', '_save_summary_steps': 100}\n"
     ]
    }
   ],
   "source": [
    "#Construindo a Rede Neural - DNNClassifier\n",
    "\n",
    "classifier = tf.estimator.DNNClassifier(\n",
    "\n",
    "    feature_columns=columns_feat,\n",
    "\n",
    "    # 2 camadas ocultas com 10 nós cada\n",
    "    hidden_units=[10, 10],\n",
    "\n",
    "    # O modelo está classificando 3 classes\n",
    "    n_classes=3)\n"
   ]
  },
  {
   "cell_type": "code",
   "execution_count": 7,
   "metadata": {
    "collapsed": false
   },
   "outputs": [
    {
     "name": "stdout",
     "output_type": "stream",
     "text": [
      "INFO:tensorflow:Create CheckpointSaverHook.\n",
      "INFO:tensorflow:Saving checkpoints for 1 into /var/folders/j4/f5p_3xrn2n12xxlnz1t9p2q40000gn/T/tmpC8gSQq/model.ckpt.\n",
      "INFO:tensorflow:loss = 182.60324, step = 1\n",
      "INFO:tensorflow:global_step/sec: 437.98\n",
      "INFO:tensorflow:loss = 17.339533, step = 101 (0.230 sec)\n",
      "INFO:tensorflow:global_step/sec: 550.118\n",
      "INFO:tensorflow:loss = 11.880699, step = 201 (0.179 sec)\n",
      "INFO:tensorflow:global_step/sec: 565.151\n",
      "INFO:tensorflow:loss = 5.868081, step = 301 (0.177 sec)\n",
      "INFO:tensorflow:global_step/sec: 575.897\n",
      "INFO:tensorflow:loss = 8.438668, step = 401 (0.176 sec)\n",
      "INFO:tensorflow:global_step/sec: 560.469\n",
      "INFO:tensorflow:loss = 6.879751, step = 501 (0.176 sec)\n",
      "INFO:tensorflow:global_step/sec: 565.064\n",
      "INFO:tensorflow:loss = 6.683238, step = 601 (0.177 sec)\n",
      "INFO:tensorflow:global_step/sec: 559.084\n",
      "INFO:tensorflow:loss = 4.5398417, step = 701 (0.179 sec)\n",
      "INFO:tensorflow:global_step/sec: 565.617\n",
      "INFO:tensorflow:loss = 4.9797, step = 801 (0.178 sec)\n",
      "INFO:tensorflow:global_step/sec: 561.738\n",
      "INFO:tensorflow:loss = 5.086172, step = 901 (0.176 sec)\n",
      "INFO:tensorflow:Saving checkpoints for 1000 into /var/folders/j4/f5p_3xrn2n12xxlnz1t9p2q40000gn/T/tmpC8gSQq/model.ckpt.\n",
      "INFO:tensorflow:Loss for final step: 3.9919126.\n"
     ]
    },
    {
     "data": {
      "text/plain": [
       "<tensorflow.python.estimator.canned.dnn.DNNClassifier at 0x118295490>"
      ]
     },
     "execution_count": 7,
     "metadata": {},
     "output_type": "execute_result"
    }
   ],
   "source": [
    "#Definindo função de treinamento\n",
    "\n",
    "def train_function(inputs, outputs, batch_size):\n",
    "    dataset = tf.data.Dataset.from_tensor_slices((dict(inputs), outputs))\n",
    "    dataset = dataset.shuffle(1000).repeat().batch(batch_size)\n",
    "    return dataset.make_one_shot_iterator().get_next()\n",
    "\n",
    "\n",
    "#Treinar o Modelo\n",
    "\n",
    "classifier.train(\n",
    "    input_fn=lambda:train_function(train_x, train_y, 100),\n",
    "    steps=1000)\n"
   ]
  },
  {
   "cell_type": "code",
   "execution_count": 8,
   "metadata": {
    "collapsed": false
   },
   "outputs": [
    {
     "name": "stdout",
     "output_type": "stream",
     "text": [
      "INFO:tensorflow:Starting evaluation at 2018-02-06-16:59:36\n",
      "INFO:tensorflow:Restoring parameters from /var/folders/j4/f5p_3xrn2n12xxlnz1t9p2q40000gn/T/tmpC8gSQq/model.ckpt-1000\n",
      "INFO:tensorflow:Finished evaluation at 2018-02-06-16:59:37\n",
      "INFO:tensorflow:Saving dict for global step 1000: accuracy = 0.96666664, average_loss = 0.06028107, global_step = 1000, loss = 1.8084321\n"
     ]
    }
   ],
   "source": [
    "#Definindo função de avaliação\n",
    "def evaluation_function(attributes, classes, batch_size):\n",
    "    attributes=dict(attributes)\n",
    "    if classes is None:\n",
    "        inputs = attributes\n",
    "    else:\n",
    "        inputs = (attributes, classes)\n",
    "    dataset = tf.data.Dataset.from_tensor_slices(inputs)\n",
    "    assert batch_size is not None, \"batch_size must not be None\"\n",
    "    dataset = dataset.batch(batch_size)\n",
    "    return dataset.make_one_shot_iterator().get_next()\n",
    "\n",
    "# Avaliando o classificador\n",
    "eval_result = classifier.evaluate(\n",
    "    input_fn=lambda:evaluation_function(test_x, test_y, 100))"
   ]
  },
  {
   "cell_type": "code",
   "execution_count": null,
   "metadata": {
    "collapsed": true
   },
   "outputs": [],
   "source": []
  }
 ],
 "metadata": {
  "kernelspec": {
   "display_name": "Python 2",
   "language": "python",
   "name": "python2"
  },
  "language_info": {
   "codemirror_mode": {
    "name": "ipython",
    "version": 2
   },
   "file_extension": ".py",
   "mimetype": "text/x-python",
   "name": "python",
   "nbconvert_exporter": "python",
   "pygments_lexer": "ipython2",
   "version": "2.7.13"
  }
 },
 "nbformat": 4,
 "nbformat_minor": 2
}
